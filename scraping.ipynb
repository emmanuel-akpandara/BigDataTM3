{
 "cells": [
  {
   "cell_type": "code",
   "execution_count": 1,
   "metadata": {},
   "outputs": [
    {
     "name": "stdout",
     "output_type": "stream",
     "text": [
      "Collecting requests\n",
      "  Using cached requests-2.31.0-py3-none-any.whl.metadata (4.6 kB)\n",
      "Collecting charset-normalizer<4,>=2 (from requests)\n",
      "  Using cached charset_normalizer-3.3.2-cp310-cp310-macosx_11_0_arm64.whl.metadata (33 kB)\n",
      "Collecting idna<4,>=2.5 (from requests)\n",
      "  Using cached idna-3.4-py3-none-any.whl (61 kB)\n",
      "Collecting urllib3<3,>=1.21.1 (from requests)\n",
      "  Using cached urllib3-2.1.0-py3-none-any.whl.metadata (6.4 kB)\n",
      "Collecting certifi>=2017.4.17 (from requests)\n",
      "  Downloading certifi-2023.11.17-py3-none-any.whl.metadata (2.2 kB)\n",
      "Using cached requests-2.31.0-py3-none-any.whl (62 kB)\n",
      "Downloading certifi-2023.11.17-py3-none-any.whl (162 kB)\n",
      "\u001b[2K   \u001b[90m━━━━━━━━━━━━━━━━━━━━━━━━━━━━━━━━━━━━━━━━\u001b[0m \u001b[32m162.5/162.5 kB\u001b[0m \u001b[31m4.4 MB/s\u001b[0m eta \u001b[36m0:00:00\u001b[0ma \u001b[36m0:00:01\u001b[0m\n",
      "\u001b[?25hUsing cached charset_normalizer-3.3.2-cp310-cp310-macosx_11_0_arm64.whl (120 kB)\n",
      "Using cached urllib3-2.1.0-py3-none-any.whl (104 kB)\n",
      "Installing collected packages: urllib3, idna, charset-normalizer, certifi, requests\n",
      "Successfully installed certifi-2023.11.17 charset-normalizer-3.3.2 idna-3.4 requests-2.31.0 urllib3-2.1.0\n",
      "Collecting beautifulsoup4\n",
      "  Using cached beautifulsoup4-4.12.2-py3-none-any.whl (142 kB)\n",
      "Collecting soupsieve>1.2 (from beautifulsoup4)\n",
      "  Using cached soupsieve-2.5-py3-none-any.whl.metadata (4.7 kB)\n",
      "Using cached soupsieve-2.5-py3-none-any.whl (36 kB)\n",
      "Installing collected packages: soupsieve, beautifulsoup4\n",
      "Successfully installed beautifulsoup4-4.12.2 soupsieve-2.5\n"
     ]
    }
   ],
   "source": [
    "!pip3 install requests\n",
    "!pip3 install beautifulsoup4\n"
   ]
  },
  {
   "cell_type": "code",
   "execution_count": 4,
   "metadata": {},
   "outputs": [],
   "source": [
    "import requests\n",
    "from bs4 import BeautifulSoup\n",
    "import os"
   ]
  },
  {
   "cell_type": "code",
   "execution_count": 5,
   "metadata": {},
   "outputs": [],
   "source": [
    "def image_scrapper(base_url,limit_page=None, prefix=None ,primary_html_tag=None, primary_selector=None, primary_class_name=None,\n",
    "                   secondary_html_tag=None, secondary_selector=None, \n",
    "                   secondary_class_name=None,output_folder=None, custom_data=None, max_counter=None):\n",
    "    \n",
    "\n",
    "    for number_page in range(1,limit_page):\n",
    "    \n",
    "        url=f\"{base_url}{prefix}page={number_page}\"\n",
    "\n",
    "        get_sites = requests.get(url)  \n",
    "\n",
    "        # print(get_sites)\n",
    "\n",
    "\n",
    "        if not os.path.exists(output_folder):\n",
    "            os.mkdir(output_folder)\n",
    "            \n",
    "        soup = BeautifulSoup(get_sites.content, 'html.parser')\n",
    "\n",
    "        get_container = soup.find(primary_html_tag,{primary_selector:primary_class_name})\n",
    "     \n",
    "        get_images_tags =  get_container.find_all(secondary_html_tag,{secondary_selector:secondary_class_name})\n",
    "        \n",
    "        # print(get_container)\n",
    "        images = []\n",
    "        images.append(len(get_images_tags))\n",
    "        print(len(get_images_tags))\n",
    "\n",
    "       \n",
    "        for i, image in  enumerate(get_images_tags):                      \n",
    "\n",
    "                img = image[\"src\"]\n",
    "\n",
    "                part = img.split('.svg')[0]\n",
    "\n",
    "                format_img = \"{}.jpeg\".format(part)\n",
    "                flag = requests.get(format_img)\n",
    "                with open(f\"{output_folder}/{custom_data}{number_page}_{i}.jpeg\", 'ab') as file:\n",
    "                    file.write(flag.content)\n"
   ]
  },
  {
   "cell_type": "code",
   "execution_count": 4,
   "metadata": {},
   "outputs": [
    {
     "name": "stdout",
     "output_type": "stream",
     "text": [
      "100\n",
      "100\n",
      "100\n",
      "100\n"
     ]
    }
   ],
   "source": [
    "## Scrapping images of pelicans from vista.com \n",
    "site_url = \"https://create.vista.com/photos/pelicans/\"\n",
    "limit_page = 5\n",
    "prefix = \"?\"\n",
    "primary_html_tag = \"div\"\n",
    "primary_selector = \"class\"\n",
    "primary_class_name = \"assetsListWrapper-oDy7b\"\n",
    "secondary_html_tag=\"img\"\n",
    "secondary_selector=\"class\"\n",
    "secondary_class_name=\"media-3IiMe\"\n",
    "output_folder=\"pelicans\"\n",
    "custom_data=\"pelican\"\n",
    "\n",
    "\n",
    "\n",
    "pelicans = image_scrapper(site_url ,limit_page,prefix,primary_html_tag,primary_selector,primary_class_name,\n",
    "             secondary_html_tag ,secondary_selector,secondary_class_name,output_folder,custom_data)"
   ]
  },
  {
   "cell_type": "code",
   "execution_count": 8,
   "metadata": {},
   "outputs": [
    {
     "name": "stdout",
     "output_type": "stream",
     "text": [
      "100\n",
      "100\n",
      "100\n",
      "100\n",
      "100\n"
     ]
    }
   ],
   "source": [
    "## Scrapping images of ducks from vista.com \n",
    "site_url = \"https://create.vista.com/photos/ducks/\"\n",
    "limit_page = 6\n",
    "prefix = \"?\"\n",
    "primary_html_tag = \"div\"\n",
    "primary_selector = \"class\"\n",
    "primary_class_name = \"assetsListWrapper-oDy7b\"\n",
    "secondary_html_tag=\"img\"\n",
    "secondary_selector=\"class\"\n",
    "secondary_class_name=\"media-3IiMe\"\n",
    "output_folder=\"ducks\"\n",
    "custom_data=\"duck\"\n",
    "\n",
    "\n",
    "\n",
    "ducks = image_scrapper(site_url ,limit_page,prefix,primary_html_tag,primary_selector,primary_class_name,\n",
    "             secondary_html_tag ,secondary_selector,secondary_class_name,output_folder,custom_data)"
   ]
  },
  {
   "cell_type": "code",
   "execution_count": 9,
   "metadata": {},
   "outputs": [
    {
     "name": "stdout",
     "output_type": "stream",
     "text": [
      "100\n",
      "100\n",
      "100\n",
      "100\n",
      "100\n"
     ]
    }
   ],
   "source": [
    "## Scrapping images of ducks from vista.com \n",
    "site_url = \"https://create.vista.com/photos/geese/\"\n",
    "limit_page = 6\n",
    "prefix = \"?\"\n",
    "primary_html_tag = \"div\"\n",
    "primary_selector = \"class\"\n",
    "primary_class_name = \"assetsListWrapper-oDy7b\"\n",
    "secondary_html_tag=\"img\"\n",
    "secondary_selector=\"class\"\n",
    "secondary_class_name=\"media-3IiMe\"\n",
    "output_folder=\"geeses\"\n",
    "custom_data=\"geese\"\n",
    "\n",
    "\n",
    "\n",
    "geeses = image_scrapper(site_url ,limit_page,prefix,primary_html_tag,primary_selector,primary_class_name,\n",
    "             secondary_html_tag ,secondary_selector,secondary_class_name,output_folder,custom_data)"
   ]
  },
  {
   "cell_type": "code",
   "execution_count": 10,
   "metadata": {},
   "outputs": [
    {
     "name": "stdout",
     "output_type": "stream",
     "text": [
      "100\n",
      "100\n",
      "100\n",
      "100\n"
     ]
    }
   ],
   "source": [
    "## Scrapping images of ducks from vista.com \n",
    "site_url = \"https://create.vista.com/photos/storks/\"\n",
    "limit_page = 5\n",
    "prefix = \"?\"\n",
    "primary_html_tag = \"div\"\n",
    "primary_selector = \"class\"\n",
    "primary_class_name = \"assetsListWrapper-oDy7b\"\n",
    "secondary_html_tag=\"img\"\n",
    "secondary_selector=\"class\"\n",
    "secondary_class_name=\"media-3IiMe\"\n",
    "output_folder=\"storks\"\n",
    "custom_data=\"stork\"\n",
    "\n",
    "\n",
    "\n",
    "storks = image_scrapper(site_url ,limit_page,prefix,primary_html_tag,primary_selector,primary_class_name,\n",
    "             secondary_html_tag ,secondary_selector,secondary_class_name,output_folder,custom_data)"
   ]
  },
  {
   "cell_type": "code",
   "execution_count": 11,
   "metadata": {},
   "outputs": [
    {
     "name": "stdout",
     "output_type": "stream",
     "text": [
      "100\n",
      "100\n",
      "100\n",
      "100\n",
      "100\n"
     ]
    }
   ],
   "source": [
    "## Scrapping images of ducks from vista.com \n",
    "site_url = \"https://create.vista.com/photos/penguins/\"\n",
    "limit_page = 6\n",
    "prefix = \"?\"\n",
    "primary_html_tag = \"div\"\n",
    "primary_selector = \"class\"\n",
    "primary_class_name = \"assetsListWrapper-oDy7b\"\n",
    "secondary_html_tag=\"img\"\n",
    "secondary_selector=\"class\"\n",
    "secondary_class_name=\"media-3IiMe\"\n",
    "output_folder=\"penguins\"\n",
    "custom_data=\"penguin\"\n",
    "\n",
    "\n",
    "\n",
    "penguins = image_scrapper(site_url ,limit_page,prefix,primary_html_tag,primary_selector,primary_class_name,\n",
    "             secondary_html_tag ,secondary_selector,secondary_class_name,output_folder,custom_data)"
   ]
  }
 ],
 "metadata": {
  "kernelspec": {
   "display_name": ".venv",
   "language": "python",
   "name": "python3"
  },
  "language_info": {
   "codemirror_mode": {
    "name": "ipython",
    "version": 3
   },
   "file_extension": ".py",
   "mimetype": "text/x-python",
   "name": "python",
   "nbconvert_exporter": "python",
   "pygments_lexer": "ipython3",
   "version": "3.10.13"
  }
 },
 "nbformat": 4,
 "nbformat_minor": 2
}
